{
 "cells": [
  {
   "cell_type": "code",
   "execution_count": 1,
   "id": "ae96beea",
   "metadata": {},
   "outputs": [],
   "source": [
    "import sqlite3                         # Got this source from stackoverflow\n",
    "import pandas as pd\n",
    "import matplotlib.pyplot as plt\n",
    "\n",
    "# Create your connection.\n",
    "cnx = sqlite3.connect('worldpopulation')\n",
    "\n",
    "df = pd.read_sql_query(\"SELECT * FROM countries\", cnx)"
   ]
  },
  {
   "cell_type": "code",
   "execution_count": 2,
   "id": "3dc847f2",
   "metadata": {},
   "outputs": [
    {
     "data": {
      "text/html": [
       "<div>\n",
       "<style scoped>\n",
       "    .dataframe tbody tr th:only-of-type {\n",
       "        vertical-align: middle;\n",
       "    }\n",
       "\n",
       "    .dataframe tbody tr th {\n",
       "        vertical-align: top;\n",
       "    }\n",
       "\n",
       "    .dataframe thead th {\n",
       "        text-align: right;\n",
       "    }\n",
       "</style>\n",
       "<table border=\"1\" class=\"dataframe\">\n",
       "  <thead>\n",
       "    <tr style=\"text-align: right;\">\n",
       "      <th></th>\n",
       "      <th>CCA3</th>\n",
       "      <th>Name</th>\n",
       "      <th>2022</th>\n",
       "      <th>2020</th>\n",
       "      <th>2015</th>\n",
       "      <th>2010</th>\n",
       "      <th>2000</th>\n",
       "      <th>1990</th>\n",
       "      <th>1980</th>\n",
       "      <th>1970</th>\n",
       "      <th>Area (kmÂ²)</th>\n",
       "      <th>Density (per kmÂ²)</th>\n",
       "      <th>GrowthRate</th>\n",
       "      <th>World Population Percentage</th>\n",
       "      <th>Rank</th>\n",
       "    </tr>\n",
       "  </thead>\n",
       "  <tbody>\n",
       "    <tr>\n",
       "      <th>0</th>\n",
       "      <td>CN</td>\n",
       "      <td>China</td>\n",
       "      <td>1425887</td>\n",
       "      <td>1424930</td>\n",
       "      <td>1393715</td>\n",
       "      <td>1348191</td>\n",
       "      <td>1264099</td>\n",
       "      <td>1153704</td>\n",
       "      <td>982372</td>\n",
       "      <td>822534</td>\n",
       "      <td>9706961</td>\n",
       "      <td>146.8933</td>\n",
       "      <td>1.00</td>\n",
       "      <td>17.88%</td>\n",
       "      <td>1</td>\n",
       "    </tr>\n",
       "    <tr>\n",
       "      <th>1</th>\n",
       "      <td>IN</td>\n",
       "      <td>India</td>\n",
       "      <td>1417173</td>\n",
       "      <td>1396387</td>\n",
       "      <td>1322867</td>\n",
       "      <td>1240614</td>\n",
       "      <td>1059634</td>\n",
       "      <td>870452</td>\n",
       "      <td>696828</td>\n",
       "      <td>557501</td>\n",
       "      <td>3287590</td>\n",
       "      <td>431.0675</td>\n",
       "      <td>1.01</td>\n",
       "      <td>17.77%</td>\n",
       "      <td>2</td>\n",
       "    </tr>\n",
       "    <tr>\n",
       "      <th>2</th>\n",
       "      <td>US</td>\n",
       "      <td>United States</td>\n",
       "      <td>338290</td>\n",
       "      <td>335942</td>\n",
       "      <td>324608</td>\n",
       "      <td>311183</td>\n",
       "      <td>282399</td>\n",
       "      <td>248084</td>\n",
       "      <td>223140</td>\n",
       "      <td>200328</td>\n",
       "      <td>9372610</td>\n",
       "      <td>36.0935</td>\n",
       "      <td>1.00</td>\n",
       "      <td>4.24%</td>\n",
       "      <td>3</td>\n",
       "    </tr>\n",
       "    <tr>\n",
       "      <th>3</th>\n",
       "      <td>ID</td>\n",
       "      <td>Indonesia</td>\n",
       "      <td>275501</td>\n",
       "      <td>271858</td>\n",
       "      <td>259092</td>\n",
       "      <td>244016</td>\n",
       "      <td>214072</td>\n",
       "      <td>182160</td>\n",
       "      <td>148177</td>\n",
       "      <td>115228</td>\n",
       "      <td>1904569</td>\n",
       "      <td>144.6529</td>\n",
       "      <td>1.01</td>\n",
       "      <td>3.45%</td>\n",
       "      <td>4</td>\n",
       "    </tr>\n",
       "    <tr>\n",
       "      <th>4</th>\n",
       "      <td>PK</td>\n",
       "      <td>Pakistan</td>\n",
       "      <td>235825</td>\n",
       "      <td>227197</td>\n",
       "      <td>210969</td>\n",
       "      <td>194454</td>\n",
       "      <td>154370</td>\n",
       "      <td>115414</td>\n",
       "      <td>80624</td>\n",
       "      <td>59291</td>\n",
       "      <td>881912</td>\n",
       "      <td>267.4018</td>\n",
       "      <td>1.02</td>\n",
       "      <td>2.96%</td>\n",
       "      <td>5</td>\n",
       "    </tr>\n",
       "  </tbody>\n",
       "</table>\n",
       "</div>"
      ],
      "text/plain": [
       "  CCA3           Name     2022     2020     2015     2010     2000     1990  \\\n",
       "0   CN          China  1425887  1424930  1393715  1348191  1264099  1153704   \n",
       "1   IN          India  1417173  1396387  1322867  1240614  1059634   870452   \n",
       "2   US  United States   338290   335942   324608   311183   282399   248084   \n",
       "3   ID      Indonesia   275501   271858   259092   244016   214072   182160   \n",
       "4   PK       Pakistan   235825   227197   210969   194454   154370   115414   \n",
       "\n",
       "     1980    1970 Area (kmÂ²) Density (per kmÂ²) GrowthRate  \\\n",
       "0  982372  822534     9706961           146.8933       1.00   \n",
       "1  696828  557501     3287590           431.0675       1.01   \n",
       "2  223140  200328     9372610            36.0935       1.00   \n",
       "3  148177  115228     1904569           144.6529       1.01   \n",
       "4   80624   59291      881912           267.4018       1.02   \n",
       "\n",
       "  World Population Percentage Rank  \n",
       "0                      17.88%    1  \n",
       "1                      17.77%    2  \n",
       "2                       4.24%    3  \n",
       "3                       3.45%    4  \n",
       "4                       2.96%    5  "
      ]
     },
     "execution_count": 2,
     "metadata": {},
     "output_type": "execute_result"
    }
   ],
   "source": [
    "# Display the DataFrame\n",
    "population_df = df\n",
    "population_df.head()"
   ]
  },
  {
   "cell_type": "code",
   "execution_count": 3,
   "id": "794a9395",
   "metadata": {},
   "outputs": [],
   "source": [
    "# Data Cleaning"
   ]
  },
  {
   "cell_type": "code",
   "execution_count": 4,
   "id": "8d8024a4",
   "metadata": {},
   "outputs": [
    {
     "data": {
      "text/plain": [
       "0"
      ]
     },
     "execution_count": 4,
     "metadata": {},
     "output_type": "execute_result"
    }
   ],
   "source": [
    "# Check for the duplicates\n",
    "population_df.duplicated().sum()"
   ]
  },
  {
   "cell_type": "code",
   "execution_count": 5,
   "id": "1577ebc5",
   "metadata": {},
   "outputs": [
    {
     "name": "stdout",
     "output_type": "stream",
     "text": [
      "<class 'pandas.core.frame.DataFrame'>\n",
      "RangeIndex: 234 entries, 0 to 233\n",
      "Data columns (total 15 columns):\n",
      " #   Column                       Non-Null Count  Dtype \n",
      "---  ------                       --------------  ----- \n",
      " 0   CCA3                         234 non-null    object\n",
      " 1   Name                         234 non-null    object\n",
      " 2   2022                         234 non-null    object\n",
      " 3   2020                         234 non-null    object\n",
      " 4   2015                         234 non-null    object\n",
      " 5   2010                         234 non-null    object\n",
      " 6   2000                         234 non-null    object\n",
      " 7   1990                         234 non-null    object\n",
      " 8   1980                         234 non-null    object\n",
      " 9   1970                         234 non-null    object\n",
      " 10  Area (kmÂ²)                  234 non-null    object\n",
      " 11  Density (per kmÂ²)           234 non-null    object\n",
      " 12  GrowthRate                   234 non-null    object\n",
      " 13  World Population Percentage  234 non-null    object\n",
      " 14  Rank                         234 non-null    object\n",
      "dtypes: object(15)\n",
      "memory usage: 27.5+ KB\n"
     ]
    }
   ],
   "source": [
    "# Get the information of the dataframe\n",
    "population_df.info()"
   ]
  },
  {
   "cell_type": "code",
   "execution_count": 6,
   "id": "52ff2ffb",
   "metadata": {},
   "outputs": [],
   "source": [
    "# Change the datatype of World Population Percentage to float\n",
    "population_df['2022'] = population_df['2022'].astype('int')\n",
    "population_df['2020'] = population_df['2020'].astype('int')\n",
    "population_df['2015'] = population_df['2015'].astype('int')\n",
    "population_df['2010'] = population_df['2010'].astype('int')\n",
    "population_df['2000'] = population_df['2000'].astype('int')\n",
    "population_df['1990'] = population_df['1990'].astype('int')\n",
    "population_df['1980'] = population_df['1980'].astype('int')\n",
    "population_df['1970'] = population_df['1970'].astype('int')\n",
    "population_df['Area (kmÂ²)'] = population_df['Area (kmÂ²)'].astype('int')\n",
    "population_df['Density (per kmÂ²)'] = population_df['Density (per kmÂ²)'].astype('float')\n",
    "population_df['GrowthRate'] = population_df['GrowthRate'].astype('float')\n",
    "\n",
    "population_df['World Population Percentage'] = population_df['World Population Percentage'].str.replace('%', '')\n",
    "population_df['World Population Percentage'] = population_df['World Population Percentage'].astype('float')\n",
    "\n",
    "population_df['Rank'] = population_df['Rank'].astype('int')\n"
   ]
  },
  {
   "cell_type": "code",
   "execution_count": 7,
   "id": "8e48f198",
   "metadata": {},
   "outputs": [
    {
     "name": "stdout",
     "output_type": "stream",
     "text": [
      "<class 'pandas.core.frame.DataFrame'>\n",
      "RangeIndex: 234 entries, 0 to 233\n",
      "Data columns (total 15 columns):\n",
      " #   Column                       Non-Null Count  Dtype  \n",
      "---  ------                       --------------  -----  \n",
      " 0   CCA3                         234 non-null    object \n",
      " 1   Name                         234 non-null    object \n",
      " 2   2022                         234 non-null    int64  \n",
      " 3   2020                         234 non-null    int64  \n",
      " 4   2015                         234 non-null    int64  \n",
      " 5   2010                         234 non-null    int64  \n",
      " 6   2000                         234 non-null    int64  \n",
      " 7   1990                         234 non-null    int64  \n",
      " 8   1980                         234 non-null    int64  \n",
      " 9   1970                         234 non-null    int64  \n",
      " 10  Area (kmÂ²)                  234 non-null    int64  \n",
      " 11  Density (per kmÂ²)           234 non-null    float64\n",
      " 12  GrowthRate                   234 non-null    float64\n",
      " 13  World Population Percentage  234 non-null    float64\n",
      " 14  Rank                         234 non-null    int64  \n",
      "dtypes: float64(3), int64(10), object(2)\n",
      "memory usage: 27.5+ KB\n"
     ]
    }
   ],
   "source": [
    "population_df.info()"
   ]
  },
  {
   "cell_type": "code",
   "execution_count": 8,
   "id": "b5573810",
   "metadata": {},
   "outputs": [
    {
     "data": {
      "text/html": [
       "<div>\n",
       "<style scoped>\n",
       "    .dataframe tbody tr th:only-of-type {\n",
       "        vertical-align: middle;\n",
       "    }\n",
       "\n",
       "    .dataframe tbody tr th {\n",
       "        vertical-align: top;\n",
       "    }\n",
       "\n",
       "    .dataframe thead th {\n",
       "        text-align: right;\n",
       "    }\n",
       "</style>\n",
       "<table border=\"1\" class=\"dataframe\">\n",
       "  <thead>\n",
       "    <tr style=\"text-align: right;\">\n",
       "      <th></th>\n",
       "      <th>Code</th>\n",
       "      <th>Country</th>\n",
       "      <th>2022</th>\n",
       "      <th>2020</th>\n",
       "      <th>2015</th>\n",
       "      <th>2010</th>\n",
       "      <th>2000</th>\n",
       "      <th>1990</th>\n",
       "      <th>1980</th>\n",
       "      <th>1970</th>\n",
       "      <th>Area (km2)</th>\n",
       "      <th>Density (2022)</th>\n",
       "      <th>GrowthRate</th>\n",
       "      <th>World Population Percentage</th>\n",
       "      <th>Rank</th>\n",
       "    </tr>\n",
       "  </thead>\n",
       "  <tbody>\n",
       "    <tr>\n",
       "      <th>0</th>\n",
       "      <td>CN</td>\n",
       "      <td>China</td>\n",
       "      <td>1425887</td>\n",
       "      <td>1424930</td>\n",
       "      <td>1393715</td>\n",
       "      <td>1348191</td>\n",
       "      <td>1264099</td>\n",
       "      <td>1153704</td>\n",
       "      <td>982372</td>\n",
       "      <td>822534</td>\n",
       "      <td>9706961</td>\n",
       "      <td>146.8933</td>\n",
       "      <td>1.00</td>\n",
       "      <td>17.88</td>\n",
       "      <td>1</td>\n",
       "    </tr>\n",
       "    <tr>\n",
       "      <th>1</th>\n",
       "      <td>IN</td>\n",
       "      <td>India</td>\n",
       "      <td>1417173</td>\n",
       "      <td>1396387</td>\n",
       "      <td>1322867</td>\n",
       "      <td>1240614</td>\n",
       "      <td>1059634</td>\n",
       "      <td>870452</td>\n",
       "      <td>696828</td>\n",
       "      <td>557501</td>\n",
       "      <td>3287590</td>\n",
       "      <td>431.0675</td>\n",
       "      <td>1.01</td>\n",
       "      <td>17.77</td>\n",
       "      <td>2</td>\n",
       "    </tr>\n",
       "    <tr>\n",
       "      <th>2</th>\n",
       "      <td>US</td>\n",
       "      <td>United States</td>\n",
       "      <td>338290</td>\n",
       "      <td>335942</td>\n",
       "      <td>324608</td>\n",
       "      <td>311183</td>\n",
       "      <td>282399</td>\n",
       "      <td>248084</td>\n",
       "      <td>223140</td>\n",
       "      <td>200328</td>\n",
       "      <td>9372610</td>\n",
       "      <td>36.0935</td>\n",
       "      <td>1.00</td>\n",
       "      <td>4.24</td>\n",
       "      <td>3</td>\n",
       "    </tr>\n",
       "    <tr>\n",
       "      <th>3</th>\n",
       "      <td>ID</td>\n",
       "      <td>Indonesia</td>\n",
       "      <td>275501</td>\n",
       "      <td>271858</td>\n",
       "      <td>259092</td>\n",
       "      <td>244016</td>\n",
       "      <td>214072</td>\n",
       "      <td>182160</td>\n",
       "      <td>148177</td>\n",
       "      <td>115228</td>\n",
       "      <td>1904569</td>\n",
       "      <td>144.6529</td>\n",
       "      <td>1.01</td>\n",
       "      <td>3.45</td>\n",
       "      <td>4</td>\n",
       "    </tr>\n",
       "    <tr>\n",
       "      <th>4</th>\n",
       "      <td>PK</td>\n",
       "      <td>Pakistan</td>\n",
       "      <td>235825</td>\n",
       "      <td>227197</td>\n",
       "      <td>210969</td>\n",
       "      <td>194454</td>\n",
       "      <td>154370</td>\n",
       "      <td>115414</td>\n",
       "      <td>80624</td>\n",
       "      <td>59291</td>\n",
       "      <td>881912</td>\n",
       "      <td>267.4018</td>\n",
       "      <td>1.02</td>\n",
       "      <td>2.96</td>\n",
       "      <td>5</td>\n",
       "    </tr>\n",
       "  </tbody>\n",
       "</table>\n",
       "</div>"
      ],
      "text/plain": [
       "  Code        Country     2022     2020     2015     2010     2000     1990  \\\n",
       "0   CN          China  1425887  1424930  1393715  1348191  1264099  1153704   \n",
       "1   IN          India  1417173  1396387  1322867  1240614  1059634   870452   \n",
       "2   US  United States   338290   335942   324608   311183   282399   248084   \n",
       "3   ID      Indonesia   275501   271858   259092   244016   214072   182160   \n",
       "4   PK       Pakistan   235825   227197   210969   194454   154370   115414   \n",
       "\n",
       "     1980    1970  Area (km2)  Density (2022)  GrowthRate  \\\n",
       "0  982372  822534     9706961        146.8933        1.00   \n",
       "1  696828  557501     3287590        431.0675        1.01   \n",
       "2  223140  200328     9372610         36.0935        1.00   \n",
       "3  148177  115228     1904569        144.6529        1.01   \n",
       "4   80624   59291      881912        267.4018        1.02   \n",
       "\n",
       "   World Population Percentage  Rank  \n",
       "0                        17.88     1  \n",
       "1                        17.77     2  \n",
       "2                         4.24     3  \n",
       "3                         3.45     4  \n",
       "4                         2.96     5  "
      ]
     },
     "execution_count": 8,
     "metadata": {},
     "output_type": "execute_result"
    }
   ],
   "source": [
    "population_df = population_df.rename(columns = {'CCA3': 'Code', 'Name': 'Country', 'Area (kmÂ²)': 'Area (km2)',\n",
    "                                                'Density (per kmÂ²)': 'Density (2022)'})\n",
    "population_df.head()"
   ]
  },
  {
   "cell_type": "code",
   "execution_count": 9,
   "id": "9606dfb3",
   "metadata": {},
   "outputs": [
    {
     "data": {
      "text/html": [
       "<div>\n",
       "<style scoped>\n",
       "    .dataframe tbody tr th:only-of-type {\n",
       "        vertical-align: middle;\n",
       "    }\n",
       "\n",
       "    .dataframe tbody tr th {\n",
       "        vertical-align: top;\n",
       "    }\n",
       "\n",
       "    .dataframe thead th {\n",
       "        text-align: right;\n",
       "    }\n",
       "</style>\n",
       "<table border=\"1\" class=\"dataframe\">\n",
       "  <thead>\n",
       "    <tr style=\"text-align: right;\">\n",
       "      <th></th>\n",
       "      <th>Code</th>\n",
       "      <th>Country</th>\n",
       "      <th>1970</th>\n",
       "      <th>1980</th>\n",
       "      <th>1990</th>\n",
       "      <th>2000</th>\n",
       "      <th>2010</th>\n",
       "      <th>2015</th>\n",
       "      <th>2020</th>\n",
       "      <th>2022</th>\n",
       "      <th>Area (km2)</th>\n",
       "      <th>Density (2022)</th>\n",
       "      <th>GrowthRate</th>\n",
       "      <th>World Population Percentage</th>\n",
       "      <th>Rank</th>\n",
       "    </tr>\n",
       "  </thead>\n",
       "  <tbody>\n",
       "    <tr>\n",
       "      <th>0</th>\n",
       "      <td>CN</td>\n",
       "      <td>China</td>\n",
       "      <td>822534</td>\n",
       "      <td>982372</td>\n",
       "      <td>1153704</td>\n",
       "      <td>1264099</td>\n",
       "      <td>1348191</td>\n",
       "      <td>1393715</td>\n",
       "      <td>1424930</td>\n",
       "      <td>1425887</td>\n",
       "      <td>9706961</td>\n",
       "      <td>146.8933</td>\n",
       "      <td>1.00</td>\n",
       "      <td>17.88</td>\n",
       "      <td>1</td>\n",
       "    </tr>\n",
       "    <tr>\n",
       "      <th>1</th>\n",
       "      <td>IN</td>\n",
       "      <td>India</td>\n",
       "      <td>557501</td>\n",
       "      <td>696828</td>\n",
       "      <td>870452</td>\n",
       "      <td>1059634</td>\n",
       "      <td>1240614</td>\n",
       "      <td>1322867</td>\n",
       "      <td>1396387</td>\n",
       "      <td>1417173</td>\n",
       "      <td>3287590</td>\n",
       "      <td>431.0675</td>\n",
       "      <td>1.01</td>\n",
       "      <td>17.77</td>\n",
       "      <td>2</td>\n",
       "    </tr>\n",
       "    <tr>\n",
       "      <th>2</th>\n",
       "      <td>US</td>\n",
       "      <td>United States</td>\n",
       "      <td>200328</td>\n",
       "      <td>223140</td>\n",
       "      <td>248084</td>\n",
       "      <td>282399</td>\n",
       "      <td>311183</td>\n",
       "      <td>324608</td>\n",
       "      <td>335942</td>\n",
       "      <td>338290</td>\n",
       "      <td>9372610</td>\n",
       "      <td>36.0935</td>\n",
       "      <td>1.00</td>\n",
       "      <td>4.24</td>\n",
       "      <td>3</td>\n",
       "    </tr>\n",
       "    <tr>\n",
       "      <th>3</th>\n",
       "      <td>ID</td>\n",
       "      <td>Indonesia</td>\n",
       "      <td>115228</td>\n",
       "      <td>148177</td>\n",
       "      <td>182160</td>\n",
       "      <td>214072</td>\n",
       "      <td>244016</td>\n",
       "      <td>259092</td>\n",
       "      <td>271858</td>\n",
       "      <td>275501</td>\n",
       "      <td>1904569</td>\n",
       "      <td>144.6529</td>\n",
       "      <td>1.01</td>\n",
       "      <td>3.45</td>\n",
       "      <td>4</td>\n",
       "    </tr>\n",
       "    <tr>\n",
       "      <th>4</th>\n",
       "      <td>PK</td>\n",
       "      <td>Pakistan</td>\n",
       "      <td>59291</td>\n",
       "      <td>80624</td>\n",
       "      <td>115414</td>\n",
       "      <td>154370</td>\n",
       "      <td>194454</td>\n",
       "      <td>210969</td>\n",
       "      <td>227197</td>\n",
       "      <td>235825</td>\n",
       "      <td>881912</td>\n",
       "      <td>267.4018</td>\n",
       "      <td>1.02</td>\n",
       "      <td>2.96</td>\n",
       "      <td>5</td>\n",
       "    </tr>\n",
       "  </tbody>\n",
       "</table>\n",
       "</div>"
      ],
      "text/plain": [
       "  Code        Country    1970    1980     1990     2000     2010     2015  \\\n",
       "0   CN          China  822534  982372  1153704  1264099  1348191  1393715   \n",
       "1   IN          India  557501  696828   870452  1059634  1240614  1322867   \n",
       "2   US  United States  200328  223140   248084   282399   311183   324608   \n",
       "3   ID      Indonesia  115228  148177   182160   214072   244016   259092   \n",
       "4   PK       Pakistan   59291   80624   115414   154370   194454   210969   \n",
       "\n",
       "      2020     2022  Area (km2)  Density (2022)  GrowthRate  \\\n",
       "0  1424930  1425887     9706961        146.8933        1.00   \n",
       "1  1396387  1417173     3287590        431.0675        1.01   \n",
       "2   335942   338290     9372610         36.0935        1.00   \n",
       "3   271858   275501     1904569        144.6529        1.01   \n",
       "4   227197   235825      881912        267.4018        1.02   \n",
       "\n",
       "   World Population Percentage  Rank  \n",
       "0                        17.88     1  \n",
       "1                        17.77     2  \n",
       "2                         4.24     3  \n",
       "3                         3.45     4  \n",
       "4                         2.96     5  "
      ]
     },
     "execution_count": 9,
     "metadata": {},
     "output_type": "execute_result"
    }
   ],
   "source": [
    "population_df = population_df[['Code', 'Country', '1970', '1980', '1990', '2000', '2010', '2015', '2020', '2022', 'Area (km2)', 'Density (2022)', 'GrowthRate', 'World Population Percentage', 'Rank']]\n",
    "population_df.head()"
   ]
  },
  {
   "cell_type": "code",
   "execution_count": 10,
   "id": "032e675f",
   "metadata": {},
   "outputs": [],
   "source": [
    "# Export the population_df into a csv\n",
    "population_df.to_csv(\"worldpopulation.csv\")\n",
    "\n",
    "# Export the population_df as a json file\n",
    "population_df.to_json(\"worldpopulation.json\", orient='records')"
   ]
  },
  {
   "cell_type": "code",
   "execution_count": 11,
   "id": "8e404164",
   "metadata": {},
   "outputs": [],
   "source": [
    "# Data Analysis"
   ]
  },
  {
   "cell_type": "code",
   "execution_count": 12,
   "id": "a7edbc35",
   "metadata": {},
   "outputs": [
    {
     "data": {
      "text/plain": [
       "1970    3694129\n",
       "1980    4442407\n",
       "1990    5314196\n",
       "2000    6147055\n",
       "2010    6983783\n",
       "2015    7424808\n",
       "2020    7839255\n",
       "2022    7973413\n",
       "dtype: int64"
      ]
     },
     "execution_count": 12,
     "metadata": {},
     "output_type": "execute_result"
    }
   ],
   "source": [
    "# Total World Population over the years\n",
    "Global_population = population_df[['1970', '1980', '1990', '2000', '2010', '2015', '2020', '2022']].sum()\n",
    "Global_population"
   ]
  },
  {
   "cell_type": "code",
   "execution_count": 13,
   "id": "a0e87933",
   "metadata": {},
   "outputs": [
    {
     "data": {
      "image/png": "[encoded data removed]",
      "text/plain": [
       "<Figure size 640x480 with 1 Axes>"
      ]
     },
     "metadata": {},
     "output_type": "display_data"
    }
   ],
   "source": [
    "# Plot showing Global Population increase over the years\n",
    "\n",
    "plt.plot(Global_population,  '-o', color='red')\n",
    "plt.bar(x = Global_population.index, height = Global_population)\n",
    "plt.title('World Population increase over Years (billion)')\n",
    "plt.ylabel('Population (billion)')\n",
    "plt.xlabel('Years')\n",
    "plt.show()\n"
   ]
  },
  {
   "cell_type": "code",
   "execution_count": 14,
   "id": "4cfb3d1d",
   "metadata": {},
   "outputs": [
    {
     "data": {
      "image/png": "[encoded data removed]",
      "text/plain": [
       "<Figure size 700x500 with 1 Axes>"
      ]
     },
     "metadata": {},
     "output_type": "display_data"
    }
   ],
   "source": [
    "# Plot showing the ratio of the Top 10 most populated countries\n",
    "\n",
    "# Define colors for the pie chart\n",
    "colors = ['tab:blue', 'tab:orange', 'tab:green', 'tab:red', 'tab:purple', 'tab:brown', 'tab:pink', 'tab:gray', 'tab:olive', 'tab:cyan']\n",
    "\n",
    "# Data\n",
    "explode = [0.1, 0, 0, 0, 0, 0, 0, 0, 0, 0]\n",
    "sizes = population_df['World Population Percentage'][:10]\n",
    "labels = population_df['Country'][:10]\n",
    "\n",
    "# Create a figure and axis\n",
    "fig, ax = plt.subplots(figsize=(7, 5))\n",
    "\n",
    "# Create the pie chart\n",
    "ax.pie(sizes, labels=labels, colors=colors, explode=explode, autopct='%1.1f%%', startangle=45)\n",
    "\n",
    "# Equal aspect ratio ensures that pie is drawn as a circle.\n",
    "ax.axis('equal')\n",
    "\n",
    "# Set a title\n",
    "ax.set_title('The ratio of the population of the Top 10 most populous countries')\n",
    "\n",
    "# Show the pie chart\n",
    "plt.show()\n"
   ]
  },
  {
   "cell_type": "code",
   "execution_count": 15,
   "id": "b7c60a79",
   "metadata": {},
   "outputs": [],
   "source": [
    "import plotly.express as px    # Source from stackoverflow, plotly documentation\n",
    "import country_converter"
   ]
  },
  {
   "cell_type": "code",
   "execution_count": 16,
   "id": "6100d1ec",
   "metadata": {},
   "outputs": [],
   "source": [
    "# Convert the country name to its ISO3 country code\n",
    "population_df['Code'] = country_converter.convert(names= population_df['Country'], to= 'ISO3')"
   ]
  },
  {
   "cell_type": "code",
   "execution_count": 21,
   "id": "f540cc46",
   "metadata": {},
   "outputs": [
    {
     "data": {
      "application/vnd.plotly.v1+json": {
       "config": {
        "plotlyServerURL": "https://plot.ly"
       },
       "data": [
        {
         "coloraxis": "coloraxis",
         "geo": "geo",
         "hovertemplate": "Code=%{location}<br>2022=%{z}<extra></extra>",
         "locations": [
          "CHN",
          "IND",
          "USA",
          "IDN",
          "PAK",
          "NGA",
          "BRA",
          "BGD",
          "RUS",
          "MEX",
          "JPN",
          "ETH",
          "PHL",
          "EGY",
          "COD",
          "VNM",
          "IRN",
          "TUR",
          "DEU",
          "THA",
          "GBR",
          "TZA",
          "FRA",
          "ZAF",
          "ITA",
          "MMR",
          "KEN",
          "COL",
          "KOR",
          "ESP",
          "UGA",
          "SDN",
          "ARG",
          "DZA",
          "IRQ",
          "AFG",
          "POL",
          "UKR",
          "CAN",
          "MAR",
          "SAU",
          "AGO",
          "UZB",
          "PER",
          "MYS",
          "YEM",
          "GHA",
          "MOZ",
          "NPL",
          "MDG",
          "VEN",
          "CIV",
          "CMR",
          "NER",
          "AUS",
          "PRK",
          "TWN",
          "BFA",
          "MLI",
          "SYR",
          "LKA",
          "MWI",
          "ZMB",
          "ROU",
          "CHL",
          "KAZ",
          "ECU",
          "GTM",
          "TCD",
          "SOM",
          "NLD",
          "SEN",
          "KHM",
          "ZWE",
          "GIN",
          "RWA",
          "BEN",
          "BDI",
          "TUN",
          "BOL",
          "BEL",
          "HTI",
          "JOR",
          "DOM",
          "CUB",
          "SSD",
          "SWE",
          "CZE",
          "HND",
          "GRC",
          "AZE",
          "PRT",
          "PNG",
          "HUN",
          "TJK",
          "BLR",
          "ARE",
          "ISR",
          "AUT",
          "TGO",
          "CHE",
          "SLE",
          "LAO",
          "HKG",
          "SRB",
          "NIC",
          "LBY",
          "BGR",
          "PRY",
          "KGZ",
          "TKM",
          "SLV",
          "SGP",
          "COG",
          "DNK",
          "SVK",
          "CAF",
          "FIN",
          "LBN",
          "NOR",
          "LBR",
          "PSE",
          "NZL",
          "CRI",
          "IRL",
          "MRT",
          "OMN",
          "PAN",
          "KWT",
          "HRV",
          "GEO",
          "ERI",
          "URY",
          "MNG",
          "MDA",
          "PRI",
          "BIH",
          "ALB",
          "JAM",
          "ARM",
          "LTU",
          "GMB",
          "QAT",
          "BWA",
          "NAM",
          "GAB",
          "LSO",
          "SVN",
          "GNB",
          "MKD",
          "LVA",
          "GNQ",
          "TTO",
          "BHR",
          "TLS",
          "EST",
          "MUS",
          "CYP",
          "SWZ",
          "DJI",
          "REU",
          "FJI",
          "COM",
          "GUY",
          "BTN",
          "SLB",
          "MAC",
          "LUX",
          "MNE",
          "SUR",
          "CPV",
          "ESH",
          "MLT",
          "MDV",
          "BRN",
          "BHS",
          "BLZ",
          "GLP",
          "ISL",
          "MTQ",
          "VUT",
          "MYT",
          "PYF",
          "GUF",
          "NCL",
          "BRB",
          "STP",
          "WSM",
          "CUW",
          "LCA",
          "GUM",
          "KIR",
          "GRD",
          "FSM",
          "JEY",
          "SYC",
          "TON",
          "ABW",
          "VCT",
          "VIR",
          "ATG",
          "IMN",
          "AND",
          "DMA",
          "CYM",
          "BMU",
          "GGY",
          "GRL",
          "FRO",
          "MNP",
          "KNA",
          "TCA",
          "ASM",
          "SXM",
          "MHL",
          "LIE",
          "MCO",
          "SMR",
          "GIB",
          "MAF",
          "VGB",
          "PLW",
          "COK",
          "AIA",
          "NRU",
          "WLF",
          "TUV",
          "BLM",
          "SPM",
          "MSR",
          "FLK",
          "NIU",
          "TKL",
          "VAT"
         ],
         "name": "",
         "type": "choropleth",
         "z": [
          1425887,
          1417173,
          338290,
          275501,
          235825,
          218541,
          215313,
          171186,
          144713,
          127504,
          123952,
          123380,
          115559,
          110990,
          99010,
          98187,
          88551,
          85341,
          83370,
          71697,
          67509,
          65498,
          64627,
          59894,
          59037,
          54179,
          54027,
          51874,
          51816,
          47559,
          47250,
          46874,
          45510,
          44903,
          44496,
          41129,
          39857,
          39702,
          38454,
          37458,
          36409,
          35589,
          34628,
          34050,
          33938,
          33697,
          33476,
          32970,
          30548,
          29612,
          28302,
          28161,
          27915,
          26208,
          26177,
          26069,
          23893,
          22674,
          22594,
          22125,
          21832,
          20405,
          20018,
          19659,
          19604,
          19398,
          18001,
          17844,
          17723,
          17598,
          17564,
          17316,
          16768,
          16321,
          13859,
          13777,
          13353,
          12890,
          12356,
          12224,
          11656,
          11585,
          11286,
          11229,
          11212,
          10913,
          10549,
          10494,
          10433,
          10385,
          10358,
          10271,
          10143,
          9967,
          9953,
          9535,
          9441,
          9038,
          8940,
          8849,
          8740,
          8606,
          7529,
          7489,
          7221,
          6948,
          6812,
          6782,
          6781,
          6631,
          6431,
          6336,
          5976,
          5970,
          5882,
          5643,
          5579,
          5541,
          5490,
          5434,
          5303,
          5250,
          5185,
          5181,
          5023,
          4736,
          4576,
          4409,
          4269,
          4030,
          3744,
          3684,
          3423,
          3398,
          3273,
          3252,
          3234,
          2842,
          2827,
          2780,
          2750,
          2706,
          2695,
          2630,
          2567,
          2389,
          2306,
          2120,
          2106,
          2094,
          1851,
          1675,
          1531,
          1472,
          1341,
          1326,
          1299,
          1251,
          1202,
          1121,
          974,
          930,
          837,
          809,
          782,
          724,
          695,
          648,
          627,
          618,
          593,
          576,
          533,
          524,
          449,
          410,
          405,
          396,
          373,
          368,
          327,
          326,
          306,
          305,
          290,
          282,
          227,
          222,
          191,
          180,
          172,
          131,
          125,
          114,
          111,
          107,
          107,
          106,
          104,
          99,
          94,
          85,
          80,
          73,
          69,
          64,
          63,
          56,
          53,
          50,
          48,
          46,
          44,
          44,
          42,
          39,
          36,
          34,
          33,
          32,
          31,
          18,
          17,
          16,
          13,
          12,
          11,
          11,
          6,
          4,
          4,
          2,
          2,
          1
         ]
        }
       ],
       "layout": {
        "coloraxis": {
         "colorbar": {
          "title": {
           "text": "2022"
          }
         },
         "colorscale": [
          [
           0,
           "#440154"
          ],
          [
           0.1111111111111111,
           "#482878"
          ],
          [
           0.2222222222222222,
           "#3e4989"
          ],
          [
           0.3333333333333333,
           "#31688e"
          ],
          [
           0.4444444444444444,
           "#26828e"
          ],
          [
           0.5555555555555556,
           "#1f9e89"
          ],
          [
           0.6666666666666666,
           "#35b779"
          ],
          [
           0.7777777777777778,
           "#6ece58"
          ],
          [
           0.8888888888888888,
           "#b5de2b"
          ],
          [
           1,
           "#fde725"
          ]
         ]
        },
        "geo": {
         "center": {},
         "domain": {
          "x": [
           0,
           1
          ],
          "y": [
           0,
           1
          ]
         },
         "scope": "world"
        },
        "height": 800,
        "legend": {
         "tracegroupgap": 0
        },
        "template": {
         "data": {
          "bar": [
           {
            "error_x": {
             "color": "#2a3f5f"
            },
            "error_y": {
             "color": "#2a3f5f"
            },
            "marker": {
             "line": {
              "color": "#E5ECF6",
              "width": 0.5
             },
             "pattern": {
              "fillmode": "overlay",
              "size": 10,
              "solidity": 0.2
             }
            },
            "type": "bar"
           }
          ],
          "barpolar": [
           {
            "marker": {
             "line": {
              "color": "#E5ECF6",
              "width": 0.5
             },
             "pattern": {
              "fillmode": "overlay",
              "size": 10,
              "solidity": 0.2
             }
            },
            "type": "barpolar"
           }
          ],
          "carpet": [
           {
            "aaxis": {
             "endlinecolor": "#2a3f5f",
             "gridcolor": "white",
             "linecolor": "white",
             "minorgridcolor": "white",
             "startlinecolor": "#2a3f5f"
            },
            "baxis": {
             "endlinecolor": "#2a3f5f",
             "gridcolor": "white",
             "linecolor": "white",
             "minorgridcolor": "white",
             "startlinecolor": "#2a3f5f"
            },
            "type": "carpet"
           }
          ],
          "choropleth": [
           {
            "colorbar": {
             "outlinewidth": 0,
             "ticks": ""
            },
            "type": "choropleth"
           }
          ],
          "contour": [
           {
            "colorbar": {
             "outlinewidth": 0,
             "ticks": ""
            },
            "colorscale": [
             [
              0,
              "#0d0887"
             ],
             [
              0.1111111111111111,
              "#46039f"
             ],
             [
              0.2222222222222222,
              "#7201a8"
             ],
             [
              0.3333333333333333,
              "#9c179e"
             ],
             [
              0.4444444444444444,
              "#bd3786"
             ],
             [
              0.5555555555555556,
              "#d8576b"
             ],
             [
              0.6666666666666666,
              "#ed7953"
             ],
             [
              0.7777777777777778,
              "#fb9f3a"
             ],
             [
              0.8888888888888888,
              "#fdca26"
             ],
             [
              1,
              "#f0f921"
             ]
            ],
            "type": "contour"
           }
          ],
          "contourcarpet": [
           {
            "colorbar": {
             "outlinewidth": 0,
             "ticks": ""
            },
            "type": "contourcarpet"
           }
          ],
          "heatmap": [
           {
            "colorbar": {
             "outlinewidth": 0,
             "ticks": ""
            },
            "colorscale": [
             [
              0,
              "#0d0887"
             ],
             [
              0.1111111111111111,
              "#46039f"
             ],
             [
              0.2222222222222222,
              "#7201a8"
             ],
             [
              0.3333333333333333,
              "#9c179e"
             ],
             [
              0.4444444444444444,
              "#bd3786"
             ],
             [
              0.5555555555555556,
              "#d8576b"
             ],
             [
              0.6666666666666666,
              "#ed7953"
             ],
             [
              0.7777777777777778,
              "#fb9f3a"
             ],
             [
              0.8888888888888888,
              "#fdca26"
             ],
             [
              1,
              "#f0f921"
             ]
            ],
            "type": "heatmap"
           }
          ],
          "heatmapgl": [
           {
            "colorbar": {
             "outlinewidth": 0,
             "ticks": ""
            },
            "colorscale": [
             [
              0,
              "#0d0887"
             ],
             [
              0.1111111111111111,
              "#46039f"
             ],
             [
              0.2222222222222222,
              "#7201a8"
             ],
             [
              0.3333333333333333,
              "#9c179e"
             ],
             [
              0.4444444444444444,
              "#bd3786"
             ],
             [
              0.5555555555555556,
              "#d8576b"
             ],
             [
              0.6666666666666666,
              "#ed7953"
             ],
             [
              0.7777777777777778,
              "#fb9f3a"
             ],
             [
              0.8888888888888888,
              "#fdca26"
             ],
             [
              1,
              "#f0f921"
             ]
            ],
            "type": "heatmapgl"
           }
          ],
          "histogram": [
           {
            "marker": {
             "pattern": {
              "fillmode": "overlay",
              "size": 10,
              "solidity": 0.2
             }
            },
            "type": "histogram"
           }
          ],
          "histogram2d": [
           {
            "colorbar": {
             "outlinewidth": 0,
             "ticks": ""
            },
            "colorscale": [
             [
              0,
              "#0d0887"
             ],
             [
              0.1111111111111111,
              "#46039f"
             ],
             [
              0.2222222222222222,
              "#7201a8"
             ],
             [
              0.3333333333333333,
              "#9c179e"
             ],
             [
              0.4444444444444444,
              "#bd3786"
             ],
             [
              0.5555555555555556,
              "#d8576b"
             ],
             [
              0.6666666666666666,
              "#ed7953"
             ],
             [
              0.7777777777777778,
              "#fb9f3a"
             ],
             [
              0.8888888888888888,
              "#fdca26"
             ],
             [
              1,
              "#f0f921"
             ]
            ],
            "type": "histogram2d"
           }
          ],
          "histogram2dcontour": [
           {
            "colorbar": {
             "outlinewidth": 0,
             "ticks": ""
            },
            "colorscale": [
             [
              0,
              "#0d0887"
             ],
             [
              0.1111111111111111,
              "#46039f"
             ],
             [
              0.2222222222222222,
              "#7201a8"
             ],
             [
              0.3333333333333333,
              "#9c179e"
             ],
             [
              0.4444444444444444,
              "#bd3786"
             ],
             [
              0.5555555555555556,
              "#d8576b"
             ],
             [
              0.6666666666666666,
              "#ed7953"
             ],
             [
              0.7777777777777778,
              "#fb9f3a"
             ],
             [
              0.8888888888888888,
              "#fdca26"
             ],
             [
              1,
              "#f0f921"
             ]
            ],
            "type": "histogram2dcontour"
           }
          ],
          "mesh3d": [
           {
            "colorbar": {
             "outlinewidth": 0,
             "ticks": ""
            },
            "type": "mesh3d"
           }
          ],
          "parcoords": [
           {
            "line": {
             "colorbar": {
              "outlinewidth": 0,
              "ticks": ""
             }
            },
            "type": "parcoords"
           }
          ],
          "pie": [
           {
            "automargin": true,
            "type": "pie"
           }
          ],
          "scatter": [
           {
            "fillpattern": {
             "fillmode": "overlay",
             "size": 10,
             "solidity": 0.2
            },
            "type": "scatter"
           }
          ],
          "scatter3d": [
           {
            "line": {
             "colorbar": {
              "outlinewidth": 0,
              "ticks": ""
             }
            },
            "marker": {
             "colorbar": {
              "outlinewidth": 0,
              "ticks": ""
             }
            },
            "type": "scatter3d"
           }
          ],
          "scattercarpet": [
           {
            "marker": {
             "colorbar": {
              "outlinewidth": 0,
              "ticks": ""
             }
            },
            "type": "scattercarpet"
           }
          ],
          "scattergeo": [
           {
            "marker": {
             "colorbar": {
              "outlinewidth": 0,
              "ticks": ""
             }
            },
            "type": "scattergeo"
           }
          ],
          "scattergl": [
           {
            "marker": {
             "colorbar": {
              "outlinewidth": 0,
              "ticks": ""
             }
            },
            "type": "scattergl"
           }
          ],
          "scattermapbox": [
           {
            "marker": {
             "colorbar": {
              "outlinewidth": 0,
              "ticks": ""
             }
            },
            "type": "scattermapbox"
           }
          ],
          "scatterpolar": [
           {
            "marker": {
             "colorbar": {
              "outlinewidth": 0,
              "ticks": ""
             }
            },
            "type": "scatterpolar"
           }
          ],
          "scatterpolargl": [
           {
            "marker": {
             "colorbar": {
              "outlinewidth": 0,
              "ticks": ""
             }
            },
            "type": "scatterpolargl"
           }
          ],
          "scatterternary": [
           {
            "marker": {
             "colorbar": {
              "outlinewidth": 0,
              "ticks": ""
             }
            },
            "type": "scatterternary"
           }
          ],
          "surface": [
           {
            "colorbar": {
             "outlinewidth": 0,
             "ticks": ""
            },
            "colorscale": [
             [
              0,
              "#0d0887"
             ],
             [
              0.1111111111111111,
              "#46039f"
             ],
             [
              0.2222222222222222,
              "#7201a8"
             ],
             [
              0.3333333333333333,
              "#9c179e"
             ],
             [
              0.4444444444444444,
              "#bd3786"
             ],
             [
              0.5555555555555556,
              "#d8576b"
             ],
             [
              0.6666666666666666,
              "#ed7953"
             ],
             [
              0.7777777777777778,
              "#fb9f3a"
             ],
             [
              0.8888888888888888,
              "#fdca26"
             ],
             [
              1,
              "#f0f921"
             ]
            ],
            "type": "surface"
           }
          ],
          "table": [
           {
            "cells": {
             "fill": {
              "color": "#EBF0F8"
             },
             "line": {
              "color": "white"
             }
            },
            "header": {
             "fill": {
              "color": "#C8D4E3"
             },
             "line": {
              "color": "white"
             }
            },
            "type": "table"
           }
          ]
         },
         "layout": {
          "annotationdefaults": {
           "arrowcolor": "#2a3f5f",
           "arrowhead": 0,
           "arrowwidth": 1
          },
          "autotypenumbers": "strict",
          "coloraxis": {
           "colorbar": {
            "outlinewidth": 0,
            "ticks": ""
           }
          },
          "colorscale": {
           "diverging": [
            [
             0,
             "#8e0152"
            ],
            [
             0.1,
             "#c51b7d"
            ],
            [
             0.2,
             "#de77ae"
            ],
            [
             0.3,
             "#f1b6da"
            ],
            [
             0.4,
             "#fde0ef"
            ],
            [
             0.5,
             "#f7f7f7"
            ],
            [
             0.6,
             "#e6f5d0"
            ],
            [
             0.7,
             "#b8e186"
            ],
            [
             0.8,
             "#7fbc41"
            ],
            [
             0.9,
             "#4d9221"
            ],
            [
             1,
             "#276419"
            ]
           ],
           "sequential": [
            [
             0,
             "#0d0887"
            ],
            [
             0.1111111111111111,
             "#46039f"
            ],
            [
             0.2222222222222222,
             "#7201a8"
            ],
            [
             0.3333333333333333,
             "#9c179e"
            ],
            [
             0.4444444444444444,
             "#bd3786"
            ],
            [
             0.5555555555555556,
             "#d8576b"
            ],
            [
             0.6666666666666666,
             "#ed7953"
            ],
            [
             0.7777777777777778,
             "#fb9f3a"
            ],
            [
             0.8888888888888888,
             "#fdca26"
            ],
            [
             1,
             "#f0f921"
            ]
           ],
           "sequentialminus": [
            [
             0,
             "#0d0887"
            ],
            [
             0.1111111111111111,
             "#46039f"
            ],
            [
             0.2222222222222222,
             "#7201a8"
            ],
            [
             0.3333333333333333,
             "#9c179e"
            ],
            [
             0.4444444444444444,
             "#bd3786"
            ],
            [
             0.5555555555555556,
             "#d8576b"
            ],
            [
             0.6666666666666666,
             "#ed7953"
            ],
            [
             0.7777777777777778,
             "#fb9f3a"
            ],
            [
             0.8888888888888888,
             "#fdca26"
            ],
            [
             1,
             "#f0f921"
            ]
           ]
          },
          "colorway": [
           "#636efa",
           "#EF553B",
           "#00cc96",
           "#ab63fa",
           "#FFA15A",
           "#19d3f3",
           "#FF6692",
           "#B6E880",
           "#FF97FF",
           "#FECB52"
          ],
          "font": {
           "color": "#2a3f5f"
          },
          "geo": {
           "bgcolor": "white",
           "lakecolor": "white",
           "landcolor": "#E5ECF6",
           "showlakes": true,
           "showland": true,
           "subunitcolor": "white"
          },
          "hoverlabel": {
           "align": "left"
          },
          "hovermode": "closest",
          "mapbox": {
           "style": "light"
          },
          "paper_bgcolor": "white",
          "plot_bgcolor": "#E5ECF6",
          "polar": {
           "angularaxis": {
            "gridcolor": "white",
            "linecolor": "white",
            "ticks": ""
           },
           "bgcolor": "#E5ECF6",
           "radialaxis": {
            "gridcolor": "white",
            "linecolor": "white",
            "ticks": ""
           }
          },
          "scene": {
           "xaxis": {
            "backgroundcolor": "#E5ECF6",
            "gridcolor": "white",
            "gridwidth": 2,
            "linecolor": "white",
            "showbackground": true,
            "ticks": "",
            "zerolinecolor": "white"
           },
           "yaxis": {
            "backgroundcolor": "#E5ECF6",
            "gridcolor": "white",
            "gridwidth": 2,
            "linecolor": "white",
            "showbackground": true,
            "ticks": "",
            "zerolinecolor": "white"
           },
           "zaxis": {
            "backgroundcolor": "#E5ECF6",
            "gridcolor": "white",
            "gridwidth": 2,
            "linecolor": "white",
            "showbackground": true,
            "ticks": "",
            "zerolinecolor": "white"
           }
          },
          "shapedefaults": {
           "line": {
            "color": "#2a3f5f"
           }
          },
          "ternary": {
           "aaxis": {
            "gridcolor": "white",
            "linecolor": "white",
            "ticks": ""
           },
           "baxis": {
            "gridcolor": "white",
            "linecolor": "white",
            "ticks": ""
           },
           "bgcolor": "#E5ECF6",
           "caxis": {
            "gridcolor": "white",
            "linecolor": "white",
            "ticks": ""
           }
          },
          "title": {
           "x": 0.05
          },
          "xaxis": {
           "automargin": true,
           "gridcolor": "white",
           "linecolor": "white",
           "ticks": "",
           "title": {
            "standoff": 15
           },
           "zerolinecolor": "white",
           "zerolinewidth": 2
          },
          "yaxis": {
           "automargin": true,
           "gridcolor": "white",
           "linecolor": "white",
           "ticks": "",
           "title": {
            "standoff": 15
           },
           "zerolinecolor": "white",
           "zerolinewidth": 2
          }
         }
        },
        "title": {
         "text": "World population for 2022"
        }
       }
      },
      "text/html": [
       "<div>                            <div id=\"49a89882-a201-4e94-aaeb-941ab3f69db6\" class=\"plotly-graph-div\" style=\"height:800px; width:100%;\"></div>            <script type=\"text/javascript\">                require([\"plotly\"], function(Plotly) {                    window.PLOTLYENV=window.PLOTLYENV || {};                                    if (document.getElementById(\"49a89882-a201-4e94-aaeb-941ab3f69db6\")) {                    Plotly.newPlot(                        \"49a89882-a201-4e94-aaeb-941ab3f69db6\",                        [{\"coloraxis\":\"coloraxis\",\"geo\":\"geo\",\"hovertemplate\":\"Code=%{location}\\u003cbr\\u003e2022=%{z}\\u003cextra\\u003e\\u003c\\u002fextra\\u003e\",\"locations\":[\"CHN\",\"IND\",\"USA\",\"IDN\",\"PAK\",\"NGA\",\"BRA\",\"BGD\",\"RUS\",\"MEX\",\"JPN\",\"ETH\",\"PHL\",\"EGY\",\"COD\",\"VNM\",\"IRN\",\"TUR\",\"DEU\",\"THA\",\"GBR\",\"TZA\",\"FRA\",\"ZAF\",\"ITA\",\"MMR\",\"KEN\",\"COL\",\"KOR\",\"ESP\",\"UGA\",\"SDN\",\"ARG\",\"DZA\",\"IRQ\",\"AFG\",\"POL\",\"UKR\",\"CAN\",\"MAR\",\"SAU\",\"AGO\",\"UZB\",\"PER\",\"MYS\",\"YEM\",\"GHA\",\"MOZ\",\"NPL\",\"MDG\",\"VEN\",\"CIV\",\"CMR\",\"NER\",\"AUS\",\"PRK\",\"TWN\",\"BFA\",\"MLI\",\"SYR\",\"LKA\",\"MWI\",\"ZMB\",\"ROU\",\"CHL\",\"KAZ\",\"ECU\",\"GTM\",\"TCD\",\"SOM\",\"NLD\",\"SEN\",\"KHM\",\"ZWE\",\"GIN\",\"RWA\",\"BEN\",\"BDI\",\"TUN\",\"BOL\",\"BEL\",\"HTI\",\"JOR\",\"DOM\",\"CUB\",\"SSD\",\"SWE\",\"CZE\",\"HND\",\"GRC\",\"AZE\",\"PRT\",\"PNG\",\"HUN\",\"TJK\",\"BLR\",\"ARE\",\"ISR\",\"AUT\",\"TGO\",\"CHE\",\"SLE\",\"LAO\",\"HKG\",\"SRB\",\"NIC\",\"LBY\",\"BGR\",\"PRY\",\"KGZ\",\"TKM\",\"SLV\",\"SGP\",\"COG\",\"DNK\",\"SVK\",\"CAF\",\"FIN\",\"LBN\",\"NOR\",\"LBR\",\"PSE\",\"NZL\",\"CRI\",\"IRL\",\"MRT\",\"OMN\",\"PAN\",\"KWT\",\"HRV\",\"GEO\",\"ERI\",\"URY\",\"MNG\",\"MDA\",\"PRI\",\"BIH\",\"ALB\",\"JAM\",\"ARM\",\"LTU\",\"GMB\",\"QAT\",\"BWA\",\"NAM\",\"GAB\",\"LSO\",\"SVN\",\"GNB\",\"MKD\",\"LVA\",\"GNQ\",\"TTO\",\"BHR\",\"TLS\",\"EST\",\"MUS\",\"CYP\",\"SWZ\",\"DJI\",\"REU\",\"FJI\",\"COM\",\"GUY\",\"BTN\",\"SLB\",\"MAC\",\"LUX\",\"MNE\",\"SUR\",\"CPV\",\"ESH\",\"MLT\",\"MDV\",\"BRN\",\"BHS\",\"BLZ\",\"GLP\",\"ISL\",\"MTQ\",\"VUT\",\"MYT\",\"PYF\",\"GUF\",\"NCL\",\"BRB\",\"STP\",\"WSM\",\"CUW\",\"LCA\",\"GUM\",\"KIR\",\"GRD\",\"FSM\",\"JEY\",\"SYC\",\"TON\",\"ABW\",\"VCT\",\"VIR\",\"ATG\",\"IMN\",\"AND\",\"DMA\",\"CYM\",\"BMU\",\"GGY\",\"GRL\",\"FRO\",\"MNP\",\"KNA\",\"TCA\",\"ASM\",\"SXM\",\"MHL\",\"LIE\",\"MCO\",\"SMR\",\"GIB\",\"MAF\",\"VGB\",\"PLW\",\"COK\",\"AIA\",\"NRU\",\"WLF\",\"TUV\",\"BLM\",\"SPM\",\"MSR\",\"FLK\",\"NIU\",\"TKL\",\"VAT\"],\"name\":\"\",\"z\":[1425887,1417173,338290,275501,235825,218541,215313,171186,144713,127504,123952,123380,115559,110990,99010,98187,88551,85341,83370,71697,67509,65498,64627,59894,59037,54179,54027,51874,51816,47559,47250,46874,45510,44903,44496,41129,39857,39702,38454,37458,36409,35589,34628,34050,33938,33697,33476,32970,30548,29612,28302,28161,27915,26208,26177,26069,23893,22674,22594,22125,21832,20405,20018,19659,19604,19398,18001,17844,17723,17598,17564,17316,16768,16321,13859,13777,13353,12890,12356,12224,11656,11585,11286,11229,11212,10913,10549,10494,10433,10385,10358,10271,10143,9967,9953,9535,9441,9038,8940,8849,8740,8606,7529,7489,7221,6948,6812,6782,6781,6631,6431,6336,5976,5970,5882,5643,5579,5541,5490,5434,5303,5250,5185,5181,5023,4736,4576,4409,4269,4030,3744,3684,3423,3398,3273,3252,3234,2842,2827,2780,2750,2706,2695,2630,2567,2389,2306,2120,2106,2094,1851,1675,1531,1472,1341,1326,1299,1251,1202,1121,974,930,837,809,782,724,695,648,627,618,593,576,533,524,449,410,405,396,373,368,327,326,306,305,290,282,227,222,191,180,172,131,125,114,111,107,107,106,104,99,94,85,80,73,69,64,63,56,53,50,48,46,44,44,42,39,36,34,33,32,31,18,17,16,13,12,11,11,6,4,4,2,2,1],\"type\":\"choropleth\"}],                        {\"template\":{\"data\":{\"histogram2dcontour\":[{\"type\":\"histogram2dcontour\",\"colorbar\":{\"outlinewidth\":0,\"ticks\":\"\"},\"colorscale\":[[0.0,\"#0d0887\"],[0.1111111111111111,\"#46039f\"],[0.2222222222222222,\"#7201a8\"],[0.3333333333333333,\"#9c179e\"],[0.4444444444444444,\"#bd3786\"],[0.5555555555555556,\"#d8576b\"],[0.6666666666666666,\"#ed7953\"],[0.7777777777777778,\"#fb9f3a\"],[0.8888888888888888,\"#fdca26\"],[1.0,\"#f0f921\"]]}],\"choropleth\":[{\"type\":\"choropleth\",\"colorbar\":{\"outlinewidth\":0,\"ticks\":\"\"}}],\"histogram2d\":[{\"type\":\"histogram2d\",\"colorbar\":{\"outlinewidth\":0,\"ticks\":\"\"},\"colorscale\":[[0.0,\"#0d0887\"],[0.1111111111111111,\"#46039f\"],[0.2222222222222222,\"#7201a8\"],[0.3333333333333333,\"#9c179e\"],[0.4444444444444444,\"#bd3786\"],[0.5555555555555556,\"#d8576b\"],[0.6666666666666666,\"#ed7953\"],[0.7777777777777778,\"#fb9f3a\"],[0.8888888888888888,\"#fdca26\"],[1.0,\"#f0f921\"]]}],\"heatmap\":[{\"type\":\"heatmap\",\"colorbar\":{\"outlinewidth\":0,\"ticks\":\"\"},\"colorscale\":[[0.0,\"#0d0887\"],[0.1111111111111111,\"#46039f\"],[0.2222222222222222,\"#7201a8\"],[0.3333333333333333,\"#9c179e\"],[0.4444444444444444,\"#bd3786\"],[0.5555555555555556,\"#d8576b\"],[0.6666666666666666,\"#ed7953\"],[0.7777777777777778,\"#fb9f3a\"],[0.8888888888888888,\"#fdca26\"],[1.0,\"#f0f921\"]]}],\"heatmapgl\":[{\"type\":\"heatmapgl\",\"colorbar\":{\"outlinewidth\":0,\"ticks\":\"\"},\"colorscale\":[[0.0,\"#0d0887\"],[0.1111111111111111,\"#46039f\"],[0.2222222222222222,\"#7201a8\"],[0.3333333333333333,\"#9c179e\"],[0.4444444444444444,\"#bd3786\"],[0.5555555555555556,\"#d8576b\"],[0.6666666666666666,\"#ed7953\"],[0.7777777777777778,\"#fb9f3a\"],[0.8888888888888888,\"#fdca26\"],[1.0,\"#f0f921\"]]}],\"contourcarpet\":[{\"type\":\"contourcarpet\",\"colorbar\":{\"outlinewidth\":0,\"ticks\":\"\"}}],\"contour\":[{\"type\":\"contour\",\"colorbar\":{\"outlinewidth\":0,\"ticks\":\"\"},\"colorscale\":[[0.0,\"#0d0887\"],[0.1111111111111111,\"#46039f\"],[0.2222222222222222,\"#7201a8\"],[0.3333333333333333,\"#9c179e\"],[0.4444444444444444,\"#bd3786\"],[0.5555555555555556,\"#d8576b\"],[0.6666666666666666,\"#ed7953\"],[0.7777777777777778,\"#fb9f3a\"],[0.8888888888888888,\"#fdca26\"],[1.0,\"#f0f921\"]]}],\"surface\":[{\"type\":\"surface\",\"colorbar\":{\"outlinewidth\":0,\"ticks\":\"\"},\"colorscale\":[[0.0,\"#0d0887\"],[0.1111111111111111,\"#46039f\"],[0.2222222222222222,\"#7201a8\"],[0.3333333333333333,\"#9c179e\"],[0.4444444444444444,\"#bd3786\"],[0.5555555555555556,\"#d8576b\"],[0.6666666666666666,\"#ed7953\"],[0.7777777777777778,\"#fb9f3a\"],[0.8888888888888888,\"#fdca26\"],[1.0,\"#f0f921\"]]}],\"mesh3d\":[{\"type\":\"mesh3d\",\"colorbar\":{\"outlinewidth\":0,\"ticks\":\"\"}}],\"scatter\":[{\"fillpattern\":{\"fillmode\":\"overlay\",\"size\":10,\"solidity\":0.2},\"type\":\"scatter\"}],\"parcoords\":[{\"type\":\"parcoords\",\"line\":{\"colorbar\":{\"outlinewidth\":0,\"ticks\":\"\"}}}],\"scatterpolargl\":[{\"type\":\"scatterpolargl\",\"marker\":{\"colorbar\":{\"outlinewidth\":0,\"ticks\":\"\"}}}],\"bar\":[{\"error_x\":{\"color\":\"#2a3f5f\"},\"error_y\":{\"color\":\"#2a3f5f\"},\"marker\":{\"line\":{\"color\":\"#E5ECF6\",\"width\":0.5},\"pattern\":{\"fillmode\":\"overlay\",\"size\":10,\"solidity\":0.2}},\"type\":\"bar\"}],\"scattergeo\":[{\"type\":\"scattergeo\",\"marker\":{\"colorbar\":{\"outlinewidth\":0,\"ticks\":\"\"}}}],\"scatterpolar\":[{\"type\":\"scatterpolar\",\"marker\":{\"colorbar\":{\"outlinewidth\":0,\"ticks\":\"\"}}}],\"histogram\":[{\"marker\":{\"pattern\":{\"fillmode\":\"overlay\",\"size\":10,\"solidity\":0.2}},\"type\":\"histogram\"}],\"scattergl\":[{\"type\":\"scattergl\",\"marker\":{\"colorbar\":{\"outlinewidth\":0,\"ticks\":\"\"}}}],\"scatter3d\":[{\"type\":\"scatter3d\",\"line\":{\"colorbar\":{\"outlinewidth\":0,\"ticks\":\"\"}},\"marker\":{\"colorbar\":{\"outlinewidth\":0,\"ticks\":\"\"}}}],\"scattermapbox\":[{\"type\":\"scattermapbox\",\"marker\":{\"colorbar\":{\"outlinewidth\":0,\"ticks\":\"\"}}}],\"scatterternary\":[{\"type\":\"scatterternary\",\"marker\":{\"colorbar\":{\"outlinewidth\":0,\"ticks\":\"\"}}}],\"scattercarpet\":[{\"type\":\"scattercarpet\",\"marker\":{\"colorbar\":{\"outlinewidth\":0,\"ticks\":\"\"}}}],\"carpet\":[{\"aaxis\":{\"endlinecolor\":\"#2a3f5f\",\"gridcolor\":\"white\",\"linecolor\":\"white\",\"minorgridcolor\":\"white\",\"startlinecolor\":\"#2a3f5f\"},\"baxis\":{\"endlinecolor\":\"#2a3f5f\",\"gridcolor\":\"white\",\"linecolor\":\"white\",\"minorgridcolor\":\"white\",\"startlinecolor\":\"#2a3f5f\"},\"type\":\"carpet\"}],\"table\":[{\"cells\":{\"fill\":{\"color\":\"#EBF0F8\"},\"line\":{\"color\":\"white\"}},\"header\":{\"fill\":{\"color\":\"#C8D4E3\"},\"line\":{\"color\":\"white\"}},\"type\":\"table\"}],\"barpolar\":[{\"marker\":{\"line\":{\"color\":\"#E5ECF6\",\"width\":0.5},\"pattern\":{\"fillmode\":\"overlay\",\"size\":10,\"solidity\":0.2}},\"type\":\"barpolar\"}],\"pie\":[{\"automargin\":true,\"type\":\"pie\"}]},\"layout\":{\"autotypenumbers\":\"strict\",\"colorway\":[\"#636efa\",\"#EF553B\",\"#00cc96\",\"#ab63fa\",\"#FFA15A\",\"#19d3f3\",\"#FF6692\",\"#B6E880\",\"#FF97FF\",\"#FECB52\"],\"font\":{\"color\":\"#2a3f5f\"},\"hovermode\":\"closest\",\"hoverlabel\":{\"align\":\"left\"},\"paper_bgcolor\":\"white\",\"plot_bgcolor\":\"#E5ECF6\",\"polar\":{\"bgcolor\":\"#E5ECF6\",\"angularaxis\":{\"gridcolor\":\"white\",\"linecolor\":\"white\",\"ticks\":\"\"},\"radialaxis\":{\"gridcolor\":\"white\",\"linecolor\":\"white\",\"ticks\":\"\"}},\"ternary\":{\"bgcolor\":\"#E5ECF6\",\"aaxis\":{\"gridcolor\":\"white\",\"linecolor\":\"white\",\"ticks\":\"\"},\"baxis\":{\"gridcolor\":\"white\",\"linecolor\":\"white\",\"ticks\":\"\"},\"caxis\":{\"gridcolor\":\"white\",\"linecolor\":\"white\",\"ticks\":\"\"}},\"coloraxis\":{\"colorbar\":{\"outlinewidth\":0,\"ticks\":\"\"}},\"colorscale\":{\"sequential\":[[0.0,\"#0d0887\"],[0.1111111111111111,\"#46039f\"],[0.2222222222222222,\"#7201a8\"],[0.3333333333333333,\"#9c179e\"],[0.4444444444444444,\"#bd3786\"],[0.5555555555555556,\"#d8576b\"],[0.6666666666666666,\"#ed7953\"],[0.7777777777777778,\"#fb9f3a\"],[0.8888888888888888,\"#fdca26\"],[1.0,\"#f0f921\"]],\"sequentialminus\":[[0.0,\"#0d0887\"],[0.1111111111111111,\"#46039f\"],[0.2222222222222222,\"#7201a8\"],[0.3333333333333333,\"#9c179e\"],[0.4444444444444444,\"#bd3786\"],[0.5555555555555556,\"#d8576b\"],[0.6666666666666666,\"#ed7953\"],[0.7777777777777778,\"#fb9f3a\"],[0.8888888888888888,\"#fdca26\"],[1.0,\"#f0f921\"]],\"diverging\":[[0,\"#8e0152\"],[0.1,\"#c51b7d\"],[0.2,\"#de77ae\"],[0.3,\"#f1b6da\"],[0.4,\"#fde0ef\"],[0.5,\"#f7f7f7\"],[0.6,\"#e6f5d0\"],[0.7,\"#b8e186\"],[0.8,\"#7fbc41\"],[0.9,\"#4d9221\"],[1,\"#276419\"]]},\"xaxis\":{\"gridcolor\":\"white\",\"linecolor\":\"white\",\"ticks\":\"\",\"title\":{\"standoff\":15},\"zerolinecolor\":\"white\",\"automargin\":true,\"zerolinewidth\":2},\"yaxis\":{\"gridcolor\":\"white\",\"linecolor\":\"white\",\"ticks\":\"\",\"title\":{\"standoff\":15},\"zerolinecolor\":\"white\",\"automargin\":true,\"zerolinewidth\":2},\"scene\":{\"xaxis\":{\"backgroundcolor\":\"#E5ECF6\",\"gridcolor\":\"white\",\"linecolor\":\"white\",\"showbackground\":true,\"ticks\":\"\",\"zerolinecolor\":\"white\",\"gridwidth\":2},\"yaxis\":{\"backgroundcolor\":\"#E5ECF6\",\"gridcolor\":\"white\",\"linecolor\":\"white\",\"showbackground\":true,\"ticks\":\"\",\"zerolinecolor\":\"white\",\"gridwidth\":2},\"zaxis\":{\"backgroundcolor\":\"#E5ECF6\",\"gridcolor\":\"white\",\"linecolor\":\"white\",\"showbackground\":true,\"ticks\":\"\",\"zerolinecolor\":\"white\",\"gridwidth\":2}},\"shapedefaults\":{\"line\":{\"color\":\"#2a3f5f\"}},\"annotationdefaults\":{\"arrowcolor\":\"#2a3f5f\",\"arrowhead\":0,\"arrowwidth\":1},\"geo\":{\"bgcolor\":\"white\",\"landcolor\":\"#E5ECF6\",\"subunitcolor\":\"white\",\"showland\":true,\"showlakes\":true,\"lakecolor\":\"white\"},\"title\":{\"x\":0.05},\"mapbox\":{\"style\":\"light\"}}},\"geo\":{\"domain\":{\"x\":[0.0,1.0],\"y\":[0.0,1.0]},\"center\":{},\"scope\":\"world\"},\"coloraxis\":{\"colorbar\":{\"title\":{\"text\":\"2022\"}},\"colorscale\":[[0.0,\"#440154\"],[0.1111111111111111,\"#482878\"],[0.2222222222222222,\"#3e4989\"],[0.3333333333333333,\"#31688e\"],[0.4444444444444444,\"#26828e\"],[0.5555555555555556,\"#1f9e89\"],[0.6666666666666666,\"#35b779\"],[0.7777777777777778,\"#6ece58\"],[0.8888888888888888,\"#b5de2b\"],[1.0,\"#fde725\"]]},\"legend\":{\"tracegroupgap\":0},\"title\":{\"text\":\"World population for 2022\"},\"height\":800},                        {\"responsive\": true}                    ).then(function(){\n",
       "                            \n",
       "var gd = document.getElementById('49a89882-a201-4e94-aaeb-941ab3f69db6');\n",
       "var x = new MutationObserver(function (mutations, observer) {{\n",
       "        var display = window.getComputedStyle(gd).display;\n",
       "        if (!display || display === 'none') {{\n",
       "            console.log([gd, 'removed!']);\n",
       "            Plotly.purge(gd);\n",
       "            observer.disconnect();\n",
       "        }}\n",
       "}});\n",
       "\n",
       "// Listen for the removal of the full notebook cells\n",
       "var notebookContainer = gd.closest('#notebook-container');\n",
       "if (notebookContainer) {{\n",
       "    x.observe(notebookContainer, {childList: true});\n",
       "}}\n",
       "\n",
       "// Listen for the clearing of the current output cell\n",
       "var outputEl = gd.closest('.output');\n",
       "if (outputEl) {{\n",
       "    x.observe(outputEl, {childList: true});\n",
       "}}\n",
       "\n",
       "                        })                };                });            </script>        </div>"
      ]
     },
     "metadata": {},
     "output_type": "display_data"
    }
   ],
   "source": [
    "# Plot the World Population for 2022\n",
    "\n",
    "px.choropleth(data_frame = population_df, \n",
    "              locations = 'Code',\n",
    "              #locationmode = 'country names',\n",
    "              color= population_df['2022'],\n",
    "              color_continuous_scale ='Viridis',\n",
    "              title='World population for 2022',\n",
    "              scope = 'world',\n",
    "              height=800)\n"
   ]
  },
  {
   "cell_type": "code",
   "execution_count": 20,
   "id": "8f0577a1",
   "metadata": {},
   "outputs": [
    {
     "data": {
      "text/html": [
       "<div>\n",
       "<style scoped>\n",
       "    .dataframe tbody tr th:only-of-type {\n",
       "        vertical-align: middle;\n",
       "    }\n",
       "\n",
       "    .dataframe tbody tr th {\n",
       "        vertical-align: top;\n",
       "    }\n",
       "\n",
       "    .dataframe thead th {\n",
       "        text-align: right;\n",
       "    }\n",
       "</style>\n",
       "<table border=\"1\" class=\"dataframe\">\n",
       "  <thead>\n",
       "    <tr style=\"text-align: right;\">\n",
       "      <th></th>\n",
       "      <th>Code</th>\n",
       "      <th>Country</th>\n",
       "      <th>1970</th>\n",
       "      <th>1980</th>\n",
       "      <th>1990</th>\n",
       "      <th>2000</th>\n",
       "      <th>2010</th>\n",
       "      <th>2015</th>\n",
       "      <th>2020</th>\n",
       "      <th>2022</th>\n",
       "      <th>Area (km2)</th>\n",
       "      <th>Density (2022)</th>\n",
       "      <th>GrowthRate</th>\n",
       "      <th>World Population Percentage</th>\n",
       "      <th>Rank</th>\n",
       "    </tr>\n",
       "  </thead>\n",
       "  <tbody>\n",
       "    <tr>\n",
       "      <th>0</th>\n",
       "      <td>CHN</td>\n",
       "      <td>China</td>\n",
       "      <td>822534</td>\n",
       "      <td>982372</td>\n",
       "      <td>1153704</td>\n",
       "      <td>1264099</td>\n",
       "      <td>1348191</td>\n",
       "      <td>1393715</td>\n",
       "      <td>1424930</td>\n",
       "      <td>1425887</td>\n",
       "      <td>9706961</td>\n",
       "      <td>146.8933</td>\n",
       "      <td>1.00</td>\n",
       "      <td>17.88</td>\n",
       "      <td>1</td>\n",
       "    </tr>\n",
       "    <tr>\n",
       "      <th>1</th>\n",
       "      <td>IND</td>\n",
       "      <td>India</td>\n",
       "      <td>557501</td>\n",
       "      <td>696828</td>\n",
       "      <td>870452</td>\n",
       "      <td>1059634</td>\n",
       "      <td>1240614</td>\n",
       "      <td>1322867</td>\n",
       "      <td>1396387</td>\n",
       "      <td>1417173</td>\n",
       "      <td>3287590</td>\n",
       "      <td>431.0675</td>\n",
       "      <td>1.01</td>\n",
       "      <td>17.77</td>\n",
       "      <td>2</td>\n",
       "    </tr>\n",
       "    <tr>\n",
       "      <th>2</th>\n",
       "      <td>USA</td>\n",
       "      <td>United States</td>\n",
       "      <td>200328</td>\n",
       "      <td>223140</td>\n",
       "      <td>248084</td>\n",
       "      <td>282399</td>\n",
       "      <td>311183</td>\n",
       "      <td>324608</td>\n",
       "      <td>335942</td>\n",
       "      <td>338290</td>\n",
       "      <td>9372610</td>\n",
       "      <td>36.0935</td>\n",
       "      <td>1.00</td>\n",
       "      <td>4.24</td>\n",
       "      <td>3</td>\n",
       "    </tr>\n",
       "    <tr>\n",
       "      <th>3</th>\n",
       "      <td>IDN</td>\n",
       "      <td>Indonesia</td>\n",
       "      <td>115228</td>\n",
       "      <td>148177</td>\n",
       "      <td>182160</td>\n",
       "      <td>214072</td>\n",
       "      <td>244016</td>\n",
       "      <td>259092</td>\n",
       "      <td>271858</td>\n",
       "      <td>275501</td>\n",
       "      <td>1904569</td>\n",
       "      <td>144.6529</td>\n",
       "      <td>1.01</td>\n",
       "      <td>3.45</td>\n",
       "      <td>4</td>\n",
       "    </tr>\n",
       "    <tr>\n",
       "      <th>4</th>\n",
       "      <td>PAK</td>\n",
       "      <td>Pakistan</td>\n",
       "      <td>59291</td>\n",
       "      <td>80624</td>\n",
       "      <td>115414</td>\n",
       "      <td>154370</td>\n",
       "      <td>194454</td>\n",
       "      <td>210969</td>\n",
       "      <td>227197</td>\n",
       "      <td>235825</td>\n",
       "      <td>881912</td>\n",
       "      <td>267.4018</td>\n",
       "      <td>1.02</td>\n",
       "      <td>2.96</td>\n",
       "      <td>5</td>\n",
       "    </tr>\n",
       "    <tr>\n",
       "      <th>...</th>\n",
       "      <td>...</td>\n",
       "      <td>...</td>\n",
       "      <td>...</td>\n",
       "      <td>...</td>\n",
       "      <td>...</td>\n",
       "      <td>...</td>\n",
       "      <td>...</td>\n",
       "      <td>...</td>\n",
       "      <td>...</td>\n",
       "      <td>...</td>\n",
       "      <td>...</td>\n",
       "      <td>...</td>\n",
       "      <td>...</td>\n",
       "      <td>...</td>\n",
       "      <td>...</td>\n",
       "    </tr>\n",
       "    <tr>\n",
       "      <th>229</th>\n",
       "      <td>MSR</td>\n",
       "      <td>Montserrat</td>\n",
       "      <td>11</td>\n",
       "      <td>11</td>\n",
       "      <td>11</td>\n",
       "      <td>5</td>\n",
       "      <td>5</td>\n",
       "      <td>5</td>\n",
       "      <td>5</td>\n",
       "      <td>4</td>\n",
       "      <td>102</td>\n",
       "      <td>43.0392</td>\n",
       "      <td>0.99</td>\n",
       "      <td>0.00</td>\n",
       "      <td>230</td>\n",
       "    </tr>\n",
       "    <tr>\n",
       "      <th>230</th>\n",
       "      <td>FLK</td>\n",
       "      <td>Falkland Islands</td>\n",
       "      <td>2</td>\n",
       "      <td>2</td>\n",
       "      <td>2</td>\n",
       "      <td>3</td>\n",
       "      <td>3</td>\n",
       "      <td>3</td>\n",
       "      <td>4</td>\n",
       "      <td>4</td>\n",
       "      <td>12173</td>\n",
       "      <td>0.3105</td>\n",
       "      <td>1.00</td>\n",
       "      <td>0.00</td>\n",
       "      <td>231</td>\n",
       "    </tr>\n",
       "    <tr>\n",
       "      <th>231</th>\n",
       "      <td>NIU</td>\n",
       "      <td>Niue</td>\n",
       "      <td>5</td>\n",
       "      <td>4</td>\n",
       "      <td>3</td>\n",
       "      <td>2</td>\n",
       "      <td>2</td>\n",
       "      <td>2</td>\n",
       "      <td>2</td>\n",
       "      <td>2</td>\n",
       "      <td>260</td>\n",
       "      <td>7.4385</td>\n",
       "      <td>1.00</td>\n",
       "      <td>0.00</td>\n",
       "      <td>232</td>\n",
       "    </tr>\n",
       "    <tr>\n",
       "      <th>232</th>\n",
       "      <td>TKL</td>\n",
       "      <td>Tokelau</td>\n",
       "      <td>2</td>\n",
       "      <td>2</td>\n",
       "      <td>2</td>\n",
       "      <td>2</td>\n",
       "      <td>1</td>\n",
       "      <td>1</td>\n",
       "      <td>2</td>\n",
       "      <td>2</td>\n",
       "      <td>12</td>\n",
       "      <td>155.9167</td>\n",
       "      <td>1.01</td>\n",
       "      <td>0.00</td>\n",
       "      <td>233</td>\n",
       "    </tr>\n",
       "    <tr>\n",
       "      <th>233</th>\n",
       "      <td>VAT</td>\n",
       "      <td>Vatican City</td>\n",
       "      <td>1</td>\n",
       "      <td>1</td>\n",
       "      <td>1</td>\n",
       "      <td>1</td>\n",
       "      <td>1</td>\n",
       "      <td>1</td>\n",
       "      <td>1</td>\n",
       "      <td>1</td>\n",
       "      <td>1</td>\n",
       "      <td>510.0000</td>\n",
       "      <td>1.00</td>\n",
       "      <td>0.00</td>\n",
       "      <td>234</td>\n",
       "    </tr>\n",
       "  </tbody>\n",
       "</table>\n",
       "<p>234 rows × 15 columns</p>\n",
       "</div>"
      ],
      "text/plain": [
       "    Code           Country    1970    1980     1990     2000     2010  \\\n",
       "0    CHN             China  822534  982372  1153704  1264099  1348191   \n",
       "1    IND             India  557501  696828   870452  1059634  1240614   \n",
       "2    USA     United States  200328  223140   248084   282399   311183   \n",
       "3    IDN         Indonesia  115228  148177   182160   214072   244016   \n",
       "4    PAK          Pakistan   59291   80624   115414   154370   194454   \n",
       "..   ...               ...     ...     ...      ...      ...      ...   \n",
       "229  MSR        Montserrat      11      11       11        5        5   \n",
       "230  FLK  Falkland Islands       2       2        2        3        3   \n",
       "231  NIU              Niue       5       4        3        2        2   \n",
       "232  TKL           Tokelau       2       2        2        2        1   \n",
       "233  VAT      Vatican City       1       1        1        1        1   \n",
       "\n",
       "        2015     2020     2022  Area (km2)  Density (2022)  GrowthRate  \\\n",
       "0    1393715  1424930  1425887     9706961        146.8933        1.00   \n",
       "1    1322867  1396387  1417173     3287590        431.0675        1.01   \n",
       "2     324608   335942   338290     9372610         36.0935        1.00   \n",
       "3     259092   271858   275501     1904569        144.6529        1.01   \n",
       "4     210969   227197   235825      881912        267.4018        1.02   \n",
       "..       ...      ...      ...         ...             ...         ...   \n",
       "229        5        5        4         102         43.0392        0.99   \n",
       "230        3        4        4       12173          0.3105        1.00   \n",
       "231        2        2        2         260          7.4385        1.00   \n",
       "232        1        2        2          12        155.9167        1.01   \n",
       "233        1        1        1           1        510.0000        1.00   \n",
       "\n",
       "     World Population Percentage  Rank  \n",
       "0                          17.88     1  \n",
       "1                          17.77     2  \n",
       "2                           4.24     3  \n",
       "3                           3.45     4  \n",
       "4                           2.96     5  \n",
       "..                           ...   ...  \n",
       "229                         0.00   230  \n",
       "230                         0.00   231  \n",
       "231                         0.00   232  \n",
       "232                         0.00   233  \n",
       "233                         0.00   234  \n",
       "\n",
       "[234 rows x 15 columns]"
      ]
     },
     "execution_count": 20,
     "metadata": {},
     "output_type": "execute_result"
    }
   ],
   "source": [
    "population_df"
   ]
  }
 ],
 "metadata": {
  "kernelspec": {
   "display_name": "Python 3 (ipykernel)",
   "language": "python",
   "name": "python3"
  },
  "language_info": {
   "codemirror_mode": {
    "name": "ipython",
    "version": 3
   },
   "file_extension": ".py",
   "mimetype": "text/x-python",
   "name": "python",
   "nbconvert_exporter": "python",
   "pygments_lexer": "ipython3",
   "version": "3.10.9"
  }
 },
 "nbformat": 4,
 "nbformat_minor": 5
}
